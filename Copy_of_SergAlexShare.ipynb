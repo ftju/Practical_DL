{
  "nbformat": 4,
  "nbformat_minor": 0,
  "metadata": {
    "colab": {
      "name": "Copy of SergAlexShare.ipynb",
      "version": "0.3.2",
      "provenance": [],
      "collapsed_sections": [],
      "include_colab_link": true
    },
    "kernelspec": {
      "name": "python3",
      "display_name": "Python 3"
    }
  },
  "cells": [
    {
      "cell_type": "markdown",
      "metadata": {
        "id": "view-in-github",
        "colab_type": "text"
      },
      "source": [
        "<a href=\"https://colab.research.google.com/github/ftju/Practical_DL/blob/master/Copy_of_SergAlexShare.ipynb\" target=\"_parent\"><img src=\"https://colab.research.google.com/assets/colab-badge.svg\" alt=\"Open In Colab\"/></a>"
      ]
    },
    {
      "cell_type": "code",
      "metadata": {
        "id": "8jZgZfgV3h_h",
        "colab_type": "code",
        "colab": {}
      },
      "source": [
        "class MoneyBag():\n",
        "    def __init__(self, name, alex, serg):\n",
        "        self.name = name\n",
        "        self.alex = alex\n",
        "        self.serg = serg\n",
        "\n",
        "\n",
        "class Account():\n",
        "    SERG_BAG_NAME = 'serg'\n",
        "    ALEX_BAG_NAME = 'alex'\n",
        "    COMMON_BAG_NAME = \"common\"\n",
        "\n",
        "    def __init__(self):\n",
        "        self.bags = dict()\n",
        "        self.bags[self.COMMON_BAG_NAME]=MoneyBag(self.COMMON_BAG_NAME, 0, 0)\n",
        "\n",
        "    def __split(self, source_bag_name, first_res_bug_name, second_res_bug_name, second_res_amount):\n",
        "        name, alex, serg = self.__get_bag(source_bag_name)\n",
        "        second_share = second_res_amount / (alex + serg)\n",
        "        first_share = 1 - second_share\n",
        "        self.__remove_bag(source_bag_name)\n",
        "        self.__add_bag(first_res_bug_name, alex * first_share, serg * first_share)\n",
        "        self.__add_bag(second_res_bug_name, alex * second_share, serg * second_share)\n",
        "\n",
        "    def __magnitude(self, bag_name, scale):\n",
        "        self.bags[bag_name].alex *= scale\n",
        "        self.bags[bag_name].serg *= scale\n",
        "\n",
        "    def __merge(self, first_bag_name, second_bag_name, result_bag_name):\n",
        "        name_first, alex_first, serg_first = self.__get_bag(first_bag_name)\n",
        "        name_second, alex_second, serg_second = self.__get_bag(second_bag_name)\n",
        "        self.__remove_bag(first_bag_name)\n",
        "        self.__remove_bag(second_bag_name)\n",
        "        self.__add_bag(result_bag_name, alex_first + alex_second, serg_first + serg_second)\n",
        "\n",
        "    def __get_bag(self, bag_name):\n",
        "        return self.bags[bag_name].name, self.bags[bag_name].alex, self.bags[bag_name].serg\n",
        "\n",
        "    def __add_bag(self, bag_name, alex, serg):\n",
        "        if bag_name in self.bags:\n",
        "            raise AttributeError(\"bag with this name already exists.\")\n",
        "        self.bags[bag_name] = MoneyBag(bag_name, alex, serg)\n",
        "\n",
        "    def __remove_bag(self, bag_name):\n",
        "        if bag_name not in self.bags:\n",
        "            raise AttributeError(\"bag with this name not exists.\")\n",
        "        del self.bags[bag_name]\n",
        "\n",
        "    def serg_add_money(self, amount):\n",
        "        self.__add_bag(self.SERG_BAG_NAME, 0, amount)\n",
        "        self.__merge(self.SERG_BAG_NAME, self.COMMON_BAG_NAME, self.COMMON_BAG_NAME)\n",
        "\n",
        "    def serg_withdraw_money(self, amount):\n",
        "        self.serg_add_money(-amount)\n",
        "\n",
        "    def alex_add_money(self, amount):\n",
        "        self.__add_bag(self.ALEX_BAG_NAME, amount, 0)\n",
        "        self.__merge(self.ALEX_BAG_NAME, self.COMMON_BAG_NAME, self.COMMON_BAG_NAME)\n",
        "\n",
        "    def alex_withdraw_money(self, amount):\n",
        "        self.alex_add_money(-amount)\n",
        "\n",
        "    def open_position(self, bag_name, money):\n",
        "        self.__split(self.COMMON_BAG_NAME, self.COMMON_BAG_NAME, bag_name, money)\n",
        "\n",
        "    def close_position(self, bag_name, money):\n",
        "        name, alex, serg = self.__get_bag(bag_name)\n",
        "        scale = money / (alex + serg)\n",
        "        self.__magnitude(bag_name, scale)\n",
        "        self.__merge(self.COMMON_BAG_NAME, bag_name, self.COMMON_BAG_NAME)\n",
        "\n",
        "    def report(self):\n",
        "        print(\"\\n\")\n",
        "        for bag in self.bags.values():\n",
        "            print(\"Name={}, $Alex={:.2f}$, $Serg={:.2f}$, %Alex={:.2f}, %Serg={:.2f}\".format(\n",
        "                bag.name,\n",
        "                bag.alex,\n",
        "                bag.serg,\n",
        "                bag.alex / (bag.alex+ bag.serg),\n",
        "                bag.serg / (bag.alex + bag.serg)\n",
        "            ))\n"
      ],
      "execution_count": 0,
      "outputs": []
    },
    {
      "cell_type": "code",
      "metadata": {
        "id": "SvpSbQl53w-I",
        "colab_type": "code",
        "outputId": "b3bbebf9-1453-4d34-d666-1f23861db2d5",
        "colab": {
          "base_uri": "https://localhost:8080/",
          "height": 197
        }
      },
      "source": [
        "def beliz():\n",
        "    a = Account()\n",
        "    a.alex_add_money(74454)\n",
        "    a.serg_add_money(15360)\n",
        "    a.report()\n",
        "    a.alex_withdraw_money(500)\n",
        "    a.report()\n",
        "    a.open_position('CRWD', 6086)\n",
        "    # когда закроется напишем account.open_position('CRWD', суммарная стоимость акций на момент закрытия)\n",
        "    a.report()\n",
        "\n",
        "\n",
        "beliz()\n"
      ],
      "execution_count": 10,
      "outputs": [
        {
          "output_type": "stream",
          "text": [
            "\n",
            "\n",
            "Name=common, $Alex=74454.00$, $Serg=15360.00$, %Alex=0.83, %Serg=0.17\n",
            "\n",
            "\n",
            "Name=common, $Alex=73954.00$, $Serg=15360.00$, %Alex=0.83, %Serg=0.17\n",
            "\n",
            "\n",
            "Name=common, $Alex=68914.66$, $Serg=14313.34$, %Alex=0.83, %Serg=0.17\n",
            "Name=CRWD, $Alex=5039.34$, $Serg=1046.66$, %Alex=0.83, %Serg=0.17\n"
          ],
          "name": "stdout"
        }
      ]
    }
  ]
}
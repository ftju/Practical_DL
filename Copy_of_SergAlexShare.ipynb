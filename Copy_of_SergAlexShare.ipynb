{
  "nbformat": 4,
  "nbformat_minor": 0,
  "metadata": {
    "colab": {
      "name": "Copy of SergAlexShare.ipynb",
      "version": "0.3.2",
      "provenance": [],
      "collapsed_sections": [],
      "include_colab_link": true
    },
    "kernelspec": {
      "name": "python3",
      "display_name": "Python 3"
    }
  },
  "cells": [
    {
      "cell_type": "markdown",
      "metadata": {
        "id": "view-in-github",
        "colab_type": "text"
      },
      "source": [
        "<a href=\"https://colab.research.google.com/github/ftju/Practical_DL/blob/master/Copy_of_SergAlexShare.ipynb\" target=\"_parent\"><img src=\"https://colab.research.google.com/assets/colab-badge.svg\" alt=\"Open In Colab\"/></a>"
      ]
    },
    {
      "cell_type": "code",
      "metadata": {
        "id": "8jZgZfgV3h_h",
        "colab_type": "code",
        "colab": {
          "base_uri": "https://localhost:8080/",
          "height": 134
        },
        "outputId": "0617089b-7f77-497c-dfa3-c545b088c94e"
      },
      "source": [
        "class MoneyBag():\n",
        "  def __init__(self, name, amount, serg_share):\n",
        "    self.name=name\n",
        "    self.amount=amount\n",
        "    self.serg_share = serg_share\n",
        "    \n",
        "    \n",
        "class Account():\n",
        "  def __init__(self):\n",
        "    self.bags = dict()\n",
        "    \n",
        "  def split(self, source_bag_name, first_res_bug_name, second_res_bug_name, res_1_amount):    \n",
        "  def magnitude(self, bag_name, scale):  \n",
        "  def merge(self, bag_name1, bag_name2, result_bag_name):   \n",
        "  def create_bag(self, bag_name, amount, serg_share):\n",
        "  def remove_bag(self, bag_name):\n",
        "  \n",
        "  \n",
        "  def serg_add_money(self, amount):\n",
        "  def serg_withdraw_money(self, amount):\n",
        "  def alex_add_money(self, amount):\n",
        "  def alex_withdraw_money(self, amount):\n",
        "  \n",
        "  def open_position(self, bag_name, money):\n",
        "  def close_position(self, bag_name, money):\n",
        "    \n",
        "  def print_state():\n",
        "    \n",
        "    \n",
        "    \n",
        "account = Account()\n",
        "accout.serg_add_money()\n",
        "accout.alex_add_money()\n",
        "account.open_position()\n",
        "account.alex_widraw_money()\n",
        "account.print()\n",
        "\n",
        "и т д\n",
        "  \n",
        "  \n",
        "  \n",
        "  \n",
        "  \n",
        "  \n",
        "  \n",
        "  \n",
        "  \n",
        "  "
      ],
      "execution_count": 1,
      "outputs": [
        {
          "output_type": "error",
          "ename": "IndentationError",
          "evalue": "ignored",
          "traceback": [
            "\u001b[0;36m  File \u001b[0;32m\"<ipython-input-1-92fda52e8544>\"\u001b[0;36m, line \u001b[0;32m9\u001b[0m\n\u001b[0;31m    def split(bag, new_name, new_amount, new_ss):\u001b[0m\n\u001b[0m      ^\u001b[0m\n\u001b[0;31mIndentationError\u001b[0m\u001b[0;31m:\u001b[0m expected an indented block\n"
          ]
        }
      ]
    },
    {
      "cell_type": "code",
      "metadata": {
        "id": "SvpSbQl53w-I",
        "colab_type": "code",
        "outputId": "84e8ecee-826d-4c57-bad4-7ccea20e981a",
        "colab": {
          "base_uri": "https://localhost:8080/",
          "height": 35
        }
      },
      "source": [
        "print_something('hello world')"
      ],
      "execution_count": 0,
      "outputs": [
        {
          "output_type": "stream",
          "text": [
            "hello world\n"
          ],
          "name": "stdout"
        }
      ]
    }
  ]
}